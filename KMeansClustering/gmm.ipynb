{
 "cells": [
  {
   "cell_type": "code",
   "execution_count": null,
   "metadata": {},
   "outputs": [],
   "source": [
    "import numpy as np\n",
    "import math \n",
    "\n",
    "\n",
    "class GMM():\n",
    "\n",
    "\tdef __calculateGaussianProb(self, x, Mu, BS, D):\n",
    "\t\treturn math.exp( -0.5 * (np.dot(np.dot(np.transpose(x-Mu), np.linalg.inv(BS)), (x-Mu)) ) ) / ( math.pow((2*3.14), (D/2)) * math.sqrt(np.linalg.det(BS)) )\n",
    "\t\t\n",
    "\tdef fit(self, K, X, Mu, BS, Pi):\n",
    "\t\tN = X.shape[0]\n",
    "\t\tD = X.shape[1]\n",
    "\t\tnewMu = np.zeros((K, D))\n",
    "\t\tnewBS = np.zeros((D, D))\n",
    "\t\tnewPi = np.zeros(K)\n",
    "\t\tGaussianOPMatrix = np.zeros((N, K))\n",
    "\t\tTau = np.zeros((N, K))\n",
    "\t\tI = 0\n",
    "\t\twhile(I<1):\n",
    "\t\t\ti=0\n",
    "\t\t\tfor GaussianOPMatrix_row in GaussianOPMatrix:\n",
    "\t\t\t\tx = X[i]\n",
    "\t\t\t\tj=0\n",
    "\t\t\t\tfor GaussianOPMatrix_cell in GaussianOPMatrix_row:\n",
    "\t\t\t\t\tGaussianOPMatrix[i][j] = self.__calculateGaussianProb(x, Mu[j], BS[j], D)\n",
    "\t\t\t\t\tj=j+1\n",
    "\t\t\t\ti=i+1\n",
    "\t\t\ti=0\n",
    "\t\t\tfor GaussianOPMatrix_row in GaussianOPMatrix:\n",
    "\t\t\t\tj=0\n",
    "\t\t\t\tfor GaussianOPMatrix_cell in GaussianOPMatrix_row:\n",
    "\t\t\t\t\tTau[i][j] = (Pi[j]*GaussianOPMatrix_cell) / (np.sum(GaussianOPMatrix_row))\n",
    "\t\t\t\t\tj=j+1\n",
    "\t\t\t\ti=i+1\n",
    "\t\t\tM = np.sum(Tau, axis=0)\n",
    "\t\t\tM_Sum = np.sum(M)\n",
    "\t\t\tTau_t = np.transpose(Tau)\n",
    "\t\t\tTau_tDOTX = np.dot(Tau_t, X)\n",
    "\t\t\tj=0\n",
    "\t\t\twhile(j<K):\n",
    "\t\t\t\tnewMu[j] = (1/M[j]) * Tau_tDOTX[j]\n",
    "\t\t\t\tnewPi[j] = M[j] / M_Sum\n",
    "\t\t\t\tj=j+1\n",
    "\t\t\tprint(\"newMu = \"+str(newMu))\n",
    "\t\t\tI = I + 1"
   ]
  }
 ],
 "metadata": {
  "kernelspec": {
   "display_name": "Python 3",
   "language": "python",
   "name": "python3"
  },
  "language_info": {
   "codemirror_mode": {
    "name": "ipython",
    "version": 3
   },
   "file_extension": ".py",
   "mimetype": "text/x-python",
   "name": "python",
   "nbconvert_exporter": "python",
   "pygments_lexer": "ipython3",
   "version": "3.6.5"
  }
 },
 "nbformat": 4,
 "nbformat_minor": 2
}
